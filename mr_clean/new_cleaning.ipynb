{
 "cells": [
  {
   "cell_type": "code",
   "execution_count": 29,
   "metadata": {},
   "outputs": [],
   "source": [
    "from pyspark.sql.functions import lower, regexp_replace, regexp_extract, col, trim, when, instr, lit, split, size, avg, isnan, when, count, isnull, mean, coalesce\n",
    "from pyspark.sql.functions import concat_ws\n",
    "from pyspark.sql import Window\n",
    "\n",
    "special_char = '[^a-z0-9A-Z_ ' \\\n",
    "               'àáãạảăắằẳẵặâấầẩẫậèéẹẻẽêềếểễệđìíĩỉịòóõọỏôốồổỗộơớờởỡợùúũụủưứừửữựỳỵỷỹýÀÁÃẠẢĂẮẰẲẴẶÂẤẦẨẪẬ' \\\n",
    "               'ÈÉẸẺẼÊỀẾỂỄỆĐÌÍĨỈỊÒÓÕỌỎÔỐỒỔỖỘƠỚỜỞỠỢÙÚŨỤỦƯỨỪỬỮỰỲỴỶỸÝ]+'"
   ]
  },
  {
   "cell_type": "code",
   "execution_count": 30,
   "metadata": {},
   "outputs": [],
   "source": [
    "from pyspark.sql import SparkSession\n",
    "\n",
    "# Create a DataFrame using SparkSession\n",
    "spark = (SparkSession\n",
    "    .builder\n",
    "    .appName(\"data_cleaning\")\n",
    "    .getOrCreate())"
   ]
  },
  {
   "cell_type": "code",
   "execution_count": 31,
   "metadata": {},
   "outputs": [
    {
     "name": "stderr",
     "output_type": "stream",
     "text": [
      "                                                                                \r"
     ]
    },
    {
     "data": {
      "text/plain": [
       "172250"
      ]
     },
     "execution_count": 31,
     "metadata": {},
     "output_type": "execute_result"
    }
   ],
   "source": [
    "from pyspark.sql.types import StructType,StructField, StringType, IntegerType\n",
    "\n",
    "path = '/home/jazzdung/Downloads/all.ndjson'\n",
    "# path = '/home/jazzdung/E-Commerce-Support-System/mr_clean/product.ndjson'\n",
    "\n",
    "# spark.conf.set(\"spark.sql.caseSensitive\", True)\n",
    "# df = spark.read.json(path)\n",
    "# spark.conf.set(\"spark.sql.caseSensitive\", False)\n",
    "\n",
    "# to convert attrs to String\n",
    "schema = StructType([\n",
    "    StructField(\"attrs\", StringType(), True),\n",
    "    StructField(\"avg_rating\", StringType(), True),\n",
    "    StructField(\"num_review\", StringType(), True),\n",
    "    StructField(\"num_sold\", StringType(), True),\n",
    "    StructField(\"price\", StringType(), True),\n",
    "    StructField(\"product_desc\", StringType(), True),\n",
    "    StructField(\"product_name\", StringType(), True),\n",
    "    StructField(\"shipping\", StringType(), True),\n",
    "    StructField(\"shop_info\", StringType(), True),\n",
    "    StructField(\"url\", StringType(), True)\n",
    "])\n",
    "df = spark.read.format(\"json\").schema(schema)\\\n",
    ".load(path)\n",
    "\n",
    "\n",
    "df.count()\n",
    "# df.show(10)"
   ]
  },
  {
   "cell_type": "code",
   "execution_count": 32,
   "metadata": {},
   "outputs": [
    {
     "name": "stderr",
     "output_type": "stream",
     "text": [
      "[Stage 27:=================================>                       (7 + 5) / 12]\r"
     ]
    },
    {
     "name": "stdout",
     "output_type": "stream",
     "text": [
      "+-----+----------+----------+--------+-----+------------+------------+--------+---------+---+\n",
      "|attrs|avg_rating|num_review|num_sold|price|product_desc|product_name|shipping|shop_info|url|\n",
      "+-----+----------+----------+--------+-----+------------+------------+--------+---------+---+\n",
      "|    0|      2162|      2162|     208|    0|           0|           0|   43881|        1|  0|\n",
      "+-----+----------+----------+--------+-----+------------+------------+--------+---------+---+\n",
      "\n"
     ]
    },
    {
     "name": "stderr",
     "output_type": "stream",
     "text": [
      "                                                                                \r"
     ]
    }
   ],
   "source": [
    "df.select([count(when(isnull(c), c)).alias(c) for c in df.columns]).show()"
   ]
  },
  {
   "attachments": {},
   "cell_type": "markdown",
   "metadata": {},
   "source": [
    "Xử lí data BA (lần cuối)\n",
    "Inspect tất cả các attribute, tìm xem attribute nào có Null\n",
    "Nếu là numeric: Fill bằng mean\n",
    "Nếu là categorical: Fill bằng “no info\"\n",
    "Nếu là description hay product name: bỏ\n",
    "\n",
    "Concat description,product name thành 1 trường mới, đặt tên là “name_description\"\n",
    "(Format:  product_name + “  “ + description)\n",
    "\n",
    "Concat description,i product name, country, shipping thành 1 trường mới, đặt tên là “augmented_description\"\n",
    "(Format:  product_name + “  “ + description + “  “ + shipping + “  “ + country )\n",
    "Bỏ các row url, attrs, stock\n"
   ]
  },
  {
   "cell_type": "code",
   "execution_count": 33,
   "metadata": {},
   "outputs": [],
   "source": [
    "def fill_with_mean(df, columns=set()):\n",
    "\n",
    "    df = df.select(\n",
    "        *(\n",
    "            coalesce(col(column), avg(column).over(Window.orderBy(lit(1)))).alias(column)\n",
    "            if column in columns\n",
    "            else col(column)\n",
    "            for column in df.columns\n",
    "        )\n",
    "    )\n",
    "\n",
    "    return df"
   ]
  },
  {
   "cell_type": "code",
   "execution_count": 34,
   "metadata": {},
   "outputs": [],
   "source": [
    "def drop_null_columns(df, columns=set()):\n",
    "    null_counts = df.select([count(when(col(c).isNull(), c)).alias(c) for c in columns]).collect()[0].asDict()\n",
    "    to_drop = [k for k, v in null_counts.items() if v > 0]\n",
    "    df = df.drop(*to_drop)\n",
    "    return df"
   ]
  },
  {
   "cell_type": "code",
   "execution_count": 35,
   "metadata": {},
   "outputs": [],
   "source": [
    "\n",
    "def k_to_number(c):  # 3,2k -> 3200  \n",
    "    contain_comma = instr(c, ',') >= 1\n",
    "    c = when(contain_comma, regexp_replace(c, 'k', '00')) \\\n",
    "        .otherwise(regexp_replace(c, 'k', '000'))\n",
    "    c = regexp_replace(c, ',', '')\n",
    "    return c\n",
    "\n",
    "def clean_product_name(df):\n",
    "    # Lowercase\n",
    "    product_name = lower(col('product_name'))\n",
    "    # Remove like tier\n",
    "    product_name = regexp_replace(product_name, 'yêu thích\\n|yêu thích\\+\\n', ' ')\n",
    "    # Remove contents inside [], option indicate promotion, prices    \n",
    "    product_name = regexp_replace(product_name, r'\\[.*?\\]', ' ')\n",
    "    # Remove special character\n",
    "    product_name = regexp_replace(product_name, special_char, ' ')\n",
    "    # Remove redundant whitespaces  \n",
    "    product_name = regexp_replace(product_name, ' +', ' ')\n",
    "\n",
    "    # Trim\n",
    "    product_name = trim(product_name)\n",
    "    return df.withColumn('product_name', product_name)\n",
    "\n",
    "def clean_price(df):\n",
    "    value = col('price')   \n",
    "    value = regexp_replace(value, r'.*₫' , '')\n",
    "    value = regexp_replace(value, '\\.', '')\n",
    "    value = value.cast('int')\n",
    "\n",
    "    return df.withColumn('price', value)\n",
    "\n",
    "def clean_desc(df):\n",
    "    product_desc = lower(col('product_desc'))\n",
    "    product_desc = regexp_replace(product_desc, 'Vớ/ Tất', 'Vớ, Tất')\n",
    "    product_desc = regexp_replace(product_desc, 'Vớ/Tất', 'Vớ, Tất')\n",
    "    product_desc = regexp_replace(product_desc, 'Quần Dài/Quần Âu', 'Quần Dài, Quần Âu')\n",
    "    product_desc = regexp_replace(product_desc, 'Quần Dài/ Quần Âu', 'Quần Dài, Quần Âu')\n",
    "    product_desc = regexp_replace(product_desc, ' &amp;', ',')\n",
    "    product_desc = regexp_replace(product_desc, '<svg.*?</svg>|<div>|div|class=|\"|<label.*?>|<flex.*?>| href=/', '')\n",
    "    product_desc = regexp_replace(product_desc, '</a>', '-')\n",
    "    product_desc = regexp_replace(product_desc, '</label>', ': ')\n",
    "    product_desc = regexp_replace(product_desc, '< ', '<')\n",
    "    product_desc = regexp_replace(product_desc, \"\\/.*?\\>\",\"/>\")\n",
    "    product_desc = regexp_replace(product_desc, '<a ', '<')\n",
    "    product_desc = regexp_replace(product_desc, '<p ', '<')\n",
    "    product_desc = regexp_replace(product_desc, ' +', ' ')\n",
    "\n",
    "    # Split\n",
    "    product_desc = regexp_replace(product_desc, '</>', '/')\n",
    "    product_desc = regexp_replace(product_desc, '<.*?>', '')\n",
    "\n",
    "    return df.withColumn('product_desc', product_desc)\n",
    "\n",
    "def extract_country(df):\n",
    "    country = regexp_replace(col('product_desc'),  'mô tả sản phẩm(.*)' , '')\n",
    "    country = regexp_extract(country, 'xuất xứ: (.+?)/', 1)\n",
    "    country = regexp_replace(country, special_char, ' ')\n",
    "\n",
    "    return df.withColumn('country', country)\n",
    "\n",
    "def extract_brand(df):\n",
    "    brand = regexp_replace(col('product_desc'),  'mô tả sản phẩm(.*)' , '')\n",
    "    brand = regexp_extract(brand, 'thương hiệu: (.+?)-/', 1)\n",
    "    brand = regexp_replace(brand, special_char, ' ')\n",
    "    return df.withColumn('brand', brand)\n",
    "\n",
    "def extract_stock(df):\n",
    "    stock = regexp_replace(col('product_desc'),  'mô tả sản phẩm(.*)' , '')\n",
    "    stock = regexp_extract(stock, 'kho hàng: (.+?)/', 1)\n",
    "    stock = regexp_replace(stock, special_char, ' ')\n",
    "    return df.withColumn('stock', stock)\n",
    "\n",
    "def extract_origin(df):\n",
    "    origin = regexp_replace(col('product_desc'),  'mô tả sản phẩm(.*)' , '')\n",
    "    origin = regexp_extract(origin, 'gửi từ: (.+?)/', 1)\n",
    "    return df.withColumn('origin', origin)\n",
    "\n",
    "def extract_first_category(df):\n",
    "    first_category = regexp_extract('product_desc', 'shopee-(.+?)-', 1)\n",
    "    return df.withColumn('first_category', first_category)\n",
    "\n",
    "def extract_second_category(df):\n",
    "    category = regexp_extract('product_desc', 'shopee-(.+)-//', 1)\n",
    "    cat_list = split(category, r\"-\")\n",
    "\n",
    "    return df.withColumn('second_category', \n",
    "        when (\n",
    "            size(cat_list) > 1,\n",
    "            concat_ws(' / ',cat_list[0],cat_list[1])\n",
    "        ).otherwise('no')\n",
    "    )\n",
    "\n",
    "def extract_third_category(df):\n",
    "    category = regexp_extract('product_desc', 'shopee-(.+)-//', 1)\n",
    "    cat_list = split(category, r\"-\")\n",
    "\n",
    "    return df.withColumn('third_category', \n",
    "        when (\n",
    "            size(cat_list) > 2,\n",
    "            concat_ws(' / ',cat_list[0],cat_list[1], cat_list[2])\n",
    "        ).otherwise('no')\n",
    "    )\n",
    "        \n",
    "\n",
    "def extract_smaller_desc(df):\n",
    "    description = regexp_extract('product_desc', 'mô tả sản phẩm(.*)', 1)\n",
    "    description = regexp_replace(description, special_char, ' ')\n",
    "    return df.withColumn('description', description)\n",
    "\n",
    "\n",
    "def clean_attrs(df):\n",
    "    attrs = lower(col('attrs'))\n",
    "    attrs = regexp_replace(attrs, special_char, ' ')\n",
    "    attrs = trim(attrs)\n",
    "    return df.withColumn('attrs', attrs)\n",
    "\n",
    "def extract_shop_name(df):\n",
    "    remove_like_tier = regexp_replace(col('shop_info'), 'Yêu Thích\\n|Yêu Thích\\+\\n', '')\n",
    "    shop_name = regexp_extract(remove_like_tier, '(.+?)\\n', 1)\n",
    "    return df.withColumn('shop_name', shop_name)\n",
    "\n",
    "def extract_shop_like_tier(df):\n",
    "    shop_like_tier = regexp_extract(col('shop_info'), '^(Yêu Thích\\+?)\\n', 1)\n",
    "    shop_like_tier = when(shop_like_tier == \"Yêu Thích+\", 2) \\\n",
    "        .when(shop_like_tier == \"Yêu Thích\", 1) \\\n",
    "        .otherwise(0)\n",
    "    return df.withColumn('shop_like_tier', shop_like_tier)\n",
    "\n",
    "def extract_shop_num_review(df):\n",
    "    shop_num_review = regexp_extract(col('shop_info'), 'Đánh Giá\\n(.+)\\n', 1)\n",
    "    shop_num_review = k_to_number(shop_num_review)\n",
    "    shop_num_review = shop_num_review.cast('int')\n",
    "    return df.withColumn('shop_num_review', shop_num_review)\n",
    "\n",
    "\n",
    "def extract_shop_reply_percectage(df):\n",
    "    shop_reply_percentage = regexp_extract(col('shop_info'), 'Tỉ Lệ Phản Hồi\\n(.+)\\n', 1)\n",
    "    shop_reply_percentage = regexp_replace(shop_reply_percentage, '%', '')\n",
    "    shop_reply_percentage = shop_reply_percentage.cast('float') / 100\n",
    "    return df.withColumn('shop_reply_percentage', shop_reply_percentage)\n",
    "\n",
    "\n",
    "def extract_shop_reply_time(df):\n",
    "    shop_reply_time = regexp_extract(col('shop_info'), 'Thời Gian Phản Hồi\\n(.+)\\n', 1)\n",
    "    return df.withColumn(\"shop_reply_time\", shop_reply_time)\n",
    "\n",
    "\n",
    "def extract_shop_creation_time(df):\n",
    "    shop_creation_time = regexp_extract(col('shop_info'), 'Tham Gia\\n(.+)\\n', 1)\n",
    "    num = regexp_extract(shop_creation_time, '\\d+', 0).cast('int')\n",
    "    contain_year = instr(shop_creation_time, 'năm') >= 1\n",
    "    contain_month = instr(shop_creation_time, 'tháng') >= 1\n",
    "    shop_creation_time = when(contain_year, num * 12) \\\n",
    "        .otherwise(when(contain_month, num) \\\n",
    "                   .otherwise(lit(0)))\n",
    "    return df.withColumn(\"shop_creation_time\", shop_creation_time)\n",
    "\n",
    "\n",
    "def extract_shop_num_follower(df):\n",
    "    shop_num_follower = regexp_extract(col('shop_info'), 'Người Theo Dõi\\n(.+)', 1)\n",
    "    shop_num_follower = k_to_number(shop_num_follower)\n",
    "    shop_num_follower = shop_num_follower.cast('int')\n",
    "    return df.withColumn(\"shop_num_follower\", shop_num_follower)\n",
    "\n",
    "\n",
    "def clean_shipping(df):\n",
    "    shipping = lower(col('shipping'))\n",
    "    shipping = regexp_replace(shipping, special_char, '')\n",
    "    # shipping = regexp_extract(shipping, r'\\d+', 0)\n",
    "    return df.withColumn('shipping', shipping)\n",
    "\n",
    "def clean_numeric_field(df, col_name):\n",
    "    cleaned_field = k_to_number(col(col_name))\n",
    "    cleaned_field = cleaned_field.cast('int')\n",
    "    return df.withColumn(col_name, cleaned_field)"
   ]
  },
  {
   "cell_type": "code",
   "execution_count": 36,
   "metadata": {},
   "outputs": [],
   "source": [
    "# cleaned product name\n",
    "df_cleaned = clean_product_name(df)\n",
    "\n",
    "# Cleaned price\n",
    "df_cleaned = clean_price(df_cleaned)\n",
    "\n",
    "# Clean product description\n",
    "df_cleaned = clean_desc(df_cleaned)\n",
    "\n",
    "# Get country, brand, stocks, origin\n",
    "df_cleaned = extract_country(df_cleaned)\n",
    "df_cleaned = extract_brand(df_cleaned)\n",
    "df_cleaned = extract_stock(df_cleaned)\n",
    "df_cleaned = extract_origin(df_cleaned)\n",
    "\n",
    "# Get category\n",
    "df_cleaned = extract_first_category(df_cleaned)\n",
    "df_cleaned = extract_second_category(df_cleaned)\n",
    "df_cleaned = extract_third_category(df_cleaned)\n",
    "\n",
    "# Desc\n",
    "df_cleaned = extract_smaller_desc(df_cleaned)\n",
    "\n",
    "# Attrs\n",
    "df_cleaned = clean_attrs(df_cleaned)\n",
    "\n",
    "# Shop info\n",
    "if \"shop_info\" in df_cleaned.columns:\n",
    "    df_cleaned = extract_shop_name(df_cleaned)\n",
    "    df_cleaned = extract_shop_like_tier(df_cleaned)\n",
    "    df_cleaned = extract_shop_num_review(df_cleaned)\n",
    "    df_cleaned = extract_shop_reply_percectage(df_cleaned)\n",
    "    df_cleaned = extract_shop_reply_time(df_cleaned)\n",
    "    df_cleaned = extract_shop_creation_time(df_cleaned)\n",
    "    df_cleaned = extract_shop_num_follower(df_cleaned)\n",
    "\n",
    "    # Shipping\n",
    "    df_cleaned = clean_shipping(df_cleaned)\n",
    "\n",
    "# Number of product review\n",
    "df_cleaned = clean_numeric_field(df_cleaned, \"num_sold\")\n",
    "\n",
    "# Number of product sold\n",
    "df_cleaned = clean_numeric_field(df_cleaned, \"num_review\")\n",
    "\n",
    "# Drop redundant columns\n",
    "df_cleaned = df_cleaned.drop('product_desc')\n",
    "df_cleaned = df_cleaned.drop('shop_info')\n",
    "\n",
    "\n",
    "# df_cleaned.show(1000, truncate=False)"
   ]
  },
  {
   "cell_type": "code",
   "execution_count": 37,
   "metadata": {},
   "outputs": [
    {
     "name": "stdout",
     "output_type": "stream",
     "text": [
      "root\n",
      " |-- attrs: string (nullable = true)\n",
      " |-- avg_rating: double (nullable = true)\n",
      " |-- num_review: integer (nullable = true)\n",
      " |-- num_sold: integer (nullable = true)\n",
      " |-- price: integer (nullable = true)\n",
      " |-- product_name: string (nullable = true)\n",
      " |-- shipping: string (nullable = true)\n",
      " |-- url: string (nullable = true)\n",
      " |-- country: string (nullable = true)\n",
      " |-- brand: string (nullable = true)\n",
      " |-- stock: string (nullable = true)\n",
      " |-- origin: string (nullable = true)\n",
      " |-- first_category: string (nullable = true)\n",
      " |-- second_category: string (nullable = false)\n",
      " |-- third_category: string (nullable = false)\n",
      " |-- description: string (nullable = true)\n",
      " |-- shop_name: string (nullable = true)\n",
      " |-- shop_like_tier: integer (nullable = false)\n",
      " |-- shop_num_review: integer (nullable = true)\n",
      " |-- shop_reply_percentage: double (nullable = true)\n",
      " |-- shop_reply_time: string (nullable = true)\n",
      " |-- shop_creation_time: integer (nullable = true)\n",
      " |-- shop_num_follower: integer (nullable = true)\n",
      "\n"
     ]
    }
   ],
   "source": [
    "# df_cleaned = df_cleaned.withColumn(\"price\",df_cleaned[\"price\"].cast('int'))\n",
    "# df_cleaned = df_cleaned.withColumn(\"num_review\",df_cleaned[\"num_review\"].cast('int'))\n",
    "# df_cleaned = df_cleaned.withColumn(\"num_sold\",df_cleaned[\"num_sold\"].cast('int'))\n",
    "# df_cleaned = df_cleaned.withColumn(\"stock\",df_cleaned[\"stock\"].cast('int'))\n",
    "df_cleaned = df_cleaned.withColumn(\"avg_rating\",df_cleaned[\"avg_rating\"].cast('double'))\n",
    "\n",
    "\n",
    "# if \"shop_info\" in df_cleaned.columns:\n",
    "#     df_cleaned = df_cleaned.withColumn(\"shop_like_tier\",df_cleaned[\"shop_like_tier\"].cast('int'))\n",
    "#     df_cleaned = df_cleaned.withColumn(\"shop_num_review\",df_cleaned[\"shop_num_review\"].cast('int'))\n",
    "#     df_cleaned = df_cleaned.withColumn(\"shop_num_follower\",df_cleaned[\"shop_num_follower\"].cast('int'))\n",
    "#     df_cleaned = df_cleaned.withColumn(\"shop_creation_time\",df_cleaned[\"shop_creation_time\"].cast('int'))\n",
    "#     df_cleaned = df_cleaned.withColumn(\"shop_reply_percentage\",df_cleaned[\"shop_reply_percentage\"].cast('double'))\n",
    "    \n",
    "df_cleaned.printSchema()"
   ]
  },
  {
   "cell_type": "code",
   "execution_count": 38,
   "metadata": {},
   "outputs": [],
   "source": [
    "include = [\"avg_rating\", \"num_review\", \"num_sold\", \"shop_num_review\", \"shop_reply_percentage\", \"shop_creation_time\", \"shop_num_follower\", \"stock\"]\n",
    "\n",
    "# Null = mean\n",
    "df_cleaned = fill_with_mean(df_cleaned, include)\n",
    "\n",
    "# Drop null\n",
    "# df_cleaned = drop_null_columns(df_cleaned, [\"price\", \"product_name\", \"description\", \"shop_name\"])\n",
    "\n",
    "df_cleaned = df_cleaned.filter(df_cleaned[\"price\"].isNotNull())\n",
    "df_cleaned = df_cleaned.filter(df_cleaned[\"product_name\"].isNotNull())\n",
    "# df_cleaned = df_cleaned.filter(df_cleaned[\"description\"].isNotNull())\n",
    "\n",
    "df_cleaned = df_cleaned.filter(\"product_name != ''\")\n",
    "df_cleaned = df_cleaned.filter(df_cleaned[\"shop_name\"].isNotNull())\n",
    "\n",
    "# Null = '' \n",
    "df_cleaned = df_cleaned.na.fill(\"\",[\"shipping\", \"country\"])\n",
    "\n",
    "# Null = 'no info' \n",
    "df_cleaned = df_cleaned.na.fill(\"\",['brand', 'first_category', 'second_category', 'third_category', 'shop_like_tier', 'shop_reply_time'])"
   ]
  },
  {
   "cell_type": "code",
   "execution_count": 39,
   "metadata": {},
   "outputs": [
    {
     "name": "stdout",
     "output_type": "stream",
     "text": [
      "23/02/06 16:51:12 WARN WindowExec: No Partition Defined for Window operation! Moving all data to a single partition, this can cause serious performance degradation.\n",
      "23/02/06 16:51:12 WARN WindowExec: No Partition Defined for Window operation! Moving all data to a single partition, this can cause serious performance degradation.\n"
     ]
    },
    {
     "name": "stderr",
     "output_type": "stream",
     "text": [
      "[Stage 30:===================================================>    (11 + 1) / 12]\r"
     ]
    },
    {
     "name": "stdout",
     "output_type": "stream",
     "text": [
      "23/02/06 16:53:29 WARN WindowExec: No Partition Defined for Window operation! Moving all data to a single partition, this can cause serious performance degradation.\n",
      "23/02/06 16:53:29 WARN WindowExec: No Partition Defined for Window operation! Moving all data to a single partition, this can cause serious performance degradation.\n"
     ]
    },
    {
     "name": "stderr",
     "output_type": "stream",
     "text": [
      "[Stage 32:>                                                         (0 + 1) / 1]\r"
     ]
    },
    {
     "name": "stdout",
     "output_type": "stream",
     "text": [
      "+-----+----------+----------+--------+-----+------------+--------+---+-------+-----+-----+------+--------------+---------------+--------------+-----------+---------+--------------+---------------+---------------------+---------------+------------------+-----------------+\n",
      "|attrs|avg_rating|num_review|num_sold|price|product_name|shipping|url|country|brand|stock|origin|first_category|second_category|third_category|description|shop_name|shop_like_tier|shop_num_review|shop_reply_percentage|shop_reply_time|shop_creation_time|shop_num_follower|\n",
      "+-----+----------+----------+--------+-----+------------+--------+---+-------+-----+-----+------+--------------+---------------+--------------+-----------+---------+--------------+---------------+---------------------+---------------+------------------+-----------------+\n",
      "|    0|         0|         0|       0|    0|           0|       0|  0|      0|    0|    0|     0|             0|              0|             0|          0|        0|             0|              0|                    0|              0|                 0|                0|\n",
      "+-----+----------+----------+--------+-----+------------+--------+---+-------+-----+-----+------+--------------+---------------+--------------+-----------+---------+--------------+---------------+---------------------+---------------+------------------+-----------------+\n",
      "\n"
     ]
    },
    {
     "name": "stderr",
     "output_type": "stream",
     "text": [
      "                                                                                \r"
     ]
    }
   ],
   "source": [
    "df_cleaned.select([count(when(isnull(c), c)).alias(c) for c in df_cleaned.columns]).show()"
   ]
  },
  {
   "cell_type": "code",
   "execution_count": 40,
   "metadata": {},
   "outputs": [],
   "source": [
    "from pyspark.sql import Window\n",
    "from pyspark.sql.functions import col, row_number\n",
    "\n",
    "# Match product name, get highest price\n",
    "w = Window.partitionBy('product_name').orderBy(col(\"price\").desc())\n",
    "\n",
    "df_grouped = df_cleaned.withColumn(\"row\",row_number().over(w)).filter(col(\"row\") == 1).drop(\"row\")\n",
    "\n",
    "# df_cleaned.show(10)"
   ]
  },
  {
   "cell_type": "code",
   "execution_count": 41,
   "metadata": {},
   "outputs": [
    {
     "name": "stdout",
     "output_type": "stream",
     "text": [
      "23/02/06 16:53:32 WARN WindowExec: No Partition Defined for Window operation! Moving all data to a single partition, this can cause serious performance degradation.\n",
      "23/02/06 16:53:32 WARN WindowExec: No Partition Defined for Window operation! Moving all data to a single partition, this can cause serious performance degradation.\n"
     ]
    },
    {
     "name": "stderr",
     "output_type": "stream",
     "text": [
      "[Stage 33:===================================================>    (11 + 1) / 12]\r"
     ]
    },
    {
     "name": "stdout",
     "output_type": "stream",
     "text": [
      "23/02/06 16:56:16 WARN WindowExec: No Partition Defined for Window operation! Moving all data to a single partition, this can cause serious performance degradation.\n",
      "23/02/06 16:56:16 WARN WindowExec: No Partition Defined for Window operation! Moving all data to a single partition, this can cause serious performance degradation.\n"
     ]
    },
    {
     "name": "stderr",
     "output_type": "stream",
     "text": [
      "                                                                                \r"
     ]
    }
   ],
   "source": [
    "# Write grouped data\n",
    "\n",
    "(df_grouped  \n",
    "    .coalesce(1)\n",
    "    .write.option(\"header\", True)\n",
    "    .format(\"csv\")\n",
    "    .mode('overwrite')\n",
    "    .csv(\"/home/jazzdung/data/data_grouped.csv\"))"
   ]
  },
  {
   "cell_type": "code",
   "execution_count": 42,
   "metadata": {},
   "outputs": [
    {
     "name": "stdout",
     "output_type": "stream",
     "text": [
      "23/02/06 16:56:24 WARN WindowExec: No Partition Defined for Window operation! Moving all data to a single partition, this can cause serious performance degradation.\n",
      "23/02/06 16:56:24 WARN WindowExec: No Partition Defined for Window operation! Moving all data to a single partition, this can cause serious performance degradation.\n"
     ]
    },
    {
     "name": "stderr",
     "output_type": "stream",
     "text": [
      "[Stage 36:===================================================>    (11 + 1) / 12]\r"
     ]
    },
    {
     "name": "stdout",
     "output_type": "stream",
     "text": [
      "23/02/06 16:58:55 WARN WindowExec: No Partition Defined for Window operation! Moving all data to a single partition, this can cause serious performance degradation.\n",
      "23/02/06 16:58:55 WARN WindowExec: No Partition Defined for Window operation! Moving all data to a single partition, this can cause serious performance degradation.\n"
     ]
    },
    {
     "name": "stderr",
     "output_type": "stream",
     "text": [
      "                                                                                \r"
     ]
    }
   ],
   "source": [
    "df_full =  df_cleaned.withColumn('name_description', concat_ws(' ', 'product_name', 'description'))\n",
    "df_full =  df_full.withColumn('augmented_description', concat_ws(' ', 'product_name', 'description', 'shipping', 'country'))\n",
    "\n",
    "# df_full = df_full.drop(col(\"brand\"))\n",
    "df_full = df_full.drop(col(\"url\"))\n",
    "df_full = df_full.drop(col(\"attrs\"))\n",
    "# df_full = df_full.drop(col(\"product_name\"))\n",
    "# df_full = df_full.drop(col(\"description\"))\n",
    "df_full = df_full.drop(col(\"shipping\"))\n",
    "df_full = df_full.drop(col(\"country\"))\n",
    "df_full = df_full.drop(col(\"stock\"))\n",
    "\n",
    "\n",
    "# Match product name, get highest price\n",
    "w = Window.partitionBy('product_name').orderBy(col(\"price\").desc())\n",
    "\n",
    "df_full = df_full.withColumn(\"row\",row_number().over(w)).filter(col(\"row\") == 1).drop(\"row\")\n",
    "\n",
    "# Write full data\n",
    "\n",
    "(df_full  \n",
    "    .coalesce(1)\n",
    "    .write.option(\"header\", True)\n",
    "    .format(\"csv\")\n",
    "    .mode('overwrite')\n",
    "    .csv(\"/home/jazzdung/data/data_full.csv\"))"
   ]
  },
  {
   "cell_type": "code",
   "execution_count": 43,
   "metadata": {},
   "outputs": [
    {
     "name": "stdout",
     "output_type": "stream",
     "text": [
      "root\n",
      " |-- avg_rating: double (nullable = true)\n",
      " |-- num_review: double (nullable = true)\n",
      " |-- num_sold: double (nullable = true)\n",
      " |-- price: integer (nullable = true)\n",
      " |-- product_name: string (nullable = true)\n",
      " |-- brand: string (nullable = false)\n",
      " |-- origin: string (nullable = true)\n",
      " |-- first_category: string (nullable = false)\n",
      " |-- second_category: string (nullable = false)\n",
      " |-- third_category: string (nullable = false)\n",
      " |-- description: string (nullable = true)\n",
      " |-- shop_name: string (nullable = true)\n",
      " |-- shop_like_tier: integer (nullable = false)\n",
      " |-- shop_num_review: double (nullable = true)\n",
      " |-- shop_reply_percentage: double (nullable = true)\n",
      " |-- shop_reply_time: string (nullable = false)\n",
      " |-- shop_creation_time: double (nullable = true)\n",
      " |-- shop_num_follower: double (nullable = true)\n",
      " |-- name_description: string (nullable = false)\n",
      " |-- augmented_description: string (nullable = false)\n",
      "\n"
     ]
    }
   ],
   "source": [
    "df_full.printSchema()"
   ]
  }
 ],
 "metadata": {
  "kernelspec": {
   "display_name": "Python 3",
   "language": "python",
   "name": "python3"
  },
  "language_info": {
   "codemirror_mode": {
    "name": "ipython",
    "version": 3
   },
   "file_extension": ".py",
   "mimetype": "text/x-python",
   "name": "python",
   "nbconvert_exporter": "python",
   "pygments_lexer": "ipython3",
   "version": "3.10.6"
  },
  "orig_nbformat": 4,
  "vscode": {
   "interpreter": {
    "hash": "916dbcbb3f70747c44a77c7bcd40155683ae19c65e1c03b4aa3499c5328201f1"
   }
  }
 },
 "nbformat": 4,
 "nbformat_minor": 2
}
